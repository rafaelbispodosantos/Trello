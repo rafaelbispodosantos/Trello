{
  "nbformat": 4,
  "nbformat_minor": 0,
  "metadata": {
    "colab": {
      "name": "Cópia de NP1_PI.ipynb",
      "provenance": [],
      "collapsed_sections": [],
      "authorship_tag": "ABX9TyNO8xXfPZt6xAWdcpU30xGP",
      "include_colab_link": true
    },
    "kernelspec": {
      "name": "python3",
      "display_name": "Python 3"
    }
  },
  "cells": [
    {
      "cell_type": "markdown",
      "metadata": {
        "id": "view-in-github",
        "colab_type": "text"
      },
      "source": [
        "<a href=\"https://colab.research.google.com/github/rafaelbispodosantos/Trello/blob/master/C%C3%B3pia_de_NP1_PI.ipynb\" target=\"_parent\"><img src=\"https://colab.research.google.com/assets/colab-badge.svg\" alt=\"Open In Colab\"/></a>"
      ]
    },
    {
      "cell_type": "code",
      "metadata": {
        "id": "5jem42GETGJ0",
        "outputId": "c49d7985-a104-48f4-de8f-2502b9ad577f",
        "colab": {
          "base_uri": "https://localhost:8080/",
          "height": 605
        }
      },
      "source": [
        "\n",
        "#Informa quantidade de pixels da imagem\n",
        "x =  int(input('digite o valor de pixels  que você ira inserir? '))\n",
        "\n",
        "#Carregando F(x).\n",
        "f_x = []\n",
        "for i in range(x):\n",
        "   #Tratamento de Erro só aceita valores de 0 a 9 \n",
        "   while True:\n",
        "     try:\n",
        "        vetaux = int(input(\"Informe o valor do pixels entre 0 e 9: \"))        \n",
        "        if not 0 <= vetaux <= 9:\n",
        "            raise ValueError(\"pixels fora do range permitido\")       \n",
        "     except ValueError as e:\n",
        "        print(\"Valor do pixels inválido:\", e)\n",
        "     else:\n",
        "       break\n",
        "   #vetor aux carrega f(x)        \n",
        "   f_x.append(vetaux) \n",
        "\n",
        "#imprime f(x)\n",
        "print(\"     f(x) -> \", f_x)\n",
        "\n",
        "maior = max(f_x)\n",
        "menor = min(f_x)\n",
        "\n",
        "#carregando k\n",
        "k=[]\n",
        "for i in range(menor, maior + 1):\n",
        "    k.append(i)\n",
        "\n",
        "#carregando (h_k)\n",
        "h_k=[] \n",
        "for i in k:\n",
        "    h_k.append(f_x.count(i))\n",
        "\n",
        "#imprima K e H(k)\n",
        "print(\"       K  -> \", k) \n",
        "print( \"     H(k) -> \",h_k)\n",
        "\n",
        "#Carregando e calculando Ha(k)\n",
        "Ha_k=[] \n",
        "for y,z in enumerate(h_k):\n",
        " if y == 0:\n",
        "       Ha_k.append(z)\n",
        " else:\n",
        "     Ha_k.append(Ha_k[y-1]+z)\n",
        "#imprima Ha(k)     \n",
        "print(\"    Ha(k) -> \",Ha_k)  \n",
        "\n",
        "#carregando e calculando Pk=Ha(k)/N \n",
        "pk=[]\n",
        "for y,z in enumerate(Ha_k):\n",
        "  pk.append(Ha_k[y]/20)\n",
        "#imprima Pk=Ha(k)/N\n",
        "print(\"Pk=Ha(k)/N-> \",pk)  \n",
        "\n",
        "#Carregando e calculando K'=9Pk\n",
        "k_linha=[]\n",
        "for y,z in enumerate(pk):\n",
        "  k_linha.append(int(pk[y]*9))\n",
        "#imprima  K'=9Pk  \n",
        "print(\"   K'=9Pk -> \",k_linha) \n",
        "\n",
        "#Careegando g(x) equalizado \n",
        "g_x=f_x.copy()\n",
        "vetAux=[]\n",
        "for i in range(len(f_x)):\n",
        "    vetAux.append(0)\n",
        "for y, z in enumerate(k):\n",
        "  for a,b in enumerate(g_x):\n",
        "    if b==z and vetAux[a]==0:\n",
        "      g_x[a]=k_linha[y]\n",
        "      vetAux[a]=1\n",
        "#imprima g(x)     \n",
        "print(\"     g(x) -> \",g_x)        "
      ],
      "execution_count": null,
      "outputs": [
        {
          "output_type": "stream",
          "text": [
            "digite o valor de pixels  que você ira inserir? 20\n",
            "Informe o valor do pixels entre 0 e 9: 2\n",
            "Informe o valor do pixels entre 0 e 9: 3\n",
            "Informe o valor do pixels entre 0 e 9: a\n",
            "Valor do pixels inválido: invalid literal for int() with base 10: 'a'\n",
            "Informe o valor do pixels entre 0 e 9: 8\n",
            "Informe o valor do pixels entre 0 e 9: 9\n",
            "Informe o valor do pixels entre 0 e 9: 6\n",
            "Informe o valor do pixels entre 0 e 9: 36\n",
            "Valor do pixels inválido: pixels fora do range permitido\n",
            "Informe o valor do pixels entre 0 e 9: 6\n",
            "Informe o valor do pixels entre 0 e 9: 7\n",
            "Informe o valor do pixels entre 0 e 9: 8\n",
            "Informe o valor do pixels entre 0 e 9: 0\n",
            "Informe o valor do pixels entre 0 e 9: 3\n",
            "Informe o valor do pixels entre 0 e 9: 9\n",
            "Informe o valor do pixels entre 0 e 9: 6\n",
            "Informe o valor do pixels entre 0 e 9: 2\n",
            "Informe o valor do pixels entre 0 e 9: 9\n",
            "Informe o valor do pixels entre 0 e 9: 6\n",
            "Informe o valor do pixels entre 0 e 9: 4\n",
            "Informe o valor do pixels entre 0 e 9: 7\n",
            "Informe o valor do pixels entre 0 e 9: 3\n",
            "Informe o valor do pixels entre 0 e 9: 7\n",
            "Informe o valor do pixels entre 0 e 9: 0\n",
            "     f(x) ->  [2, 3, 8, 9, 6, 6, 7, 8, 0, 3, 9, 6, 2, 9, 6, 4, 7, 3, 7, 0]\n",
            "       K  ->  [0, 1, 2, 3, 4, 5, 6, 7, 8, 9]\n",
            "     H(k) ->  [2, 0, 2, 3, 1, 0, 4, 3, 2, 3]\n",
            "    Ha(k) ->  [2, 2, 4, 7, 8, 8, 12, 15, 17, 20]\n",
            "Pk=Ha(k)/N->  [0.1, 0.1, 0.2, 0.35, 0.4, 0.4, 0.6, 0.75, 0.85, 1.0]\n",
            "   K'=9Pk ->  [0, 0, 1, 3, 3, 3, 5, 6, 7, 9]\n",
            "     g(x) ->  [1, 3, 7, 9, 5, 5, 6, 7, 0, 3, 9, 5, 1, 9, 5, 3, 6, 3, 6, 0]\n"
          ],
          "name": "stdout"
        }
      ]
    },
    {
      "cell_type": "code",
      "metadata": {
        "id": "rfRpd8mesgsV"
      },
      "source": [
        ""
      ],
      "execution_count": null,
      "outputs": []
    }
  ]
}